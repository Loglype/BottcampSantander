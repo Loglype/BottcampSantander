{
  "nbformat": 4,
  "nbformat_minor": 0,
  "metadata": {
    "colab": {
      "provenance": [],
      "authorship_tag": "ABX9TyNJM32wGxoWuBDCrIRBt9ex",
      "include_colab_link": true
    },
    "kernelspec": {
      "name": "python3",
      "display_name": "Python 3"
    },
    "language_info": {
      "name": "python"
    }
  },
  "cells": [
    {
      "cell_type": "markdown",
      "metadata": {
        "id": "view-in-github",
        "colab_type": "text"
      },
      "source": [
        "<a href=\"https://colab.research.google.com/github/Loglype/BottcampSantander/blob/main/Desafio_Pipeline_ETL.ipynb\" target=\"_parent\"><img src=\"https://colab.research.google.com/assets/colab-badge.svg\" alt=\"Open In Colab\"/></a>"
      ]
    },
    {
      "cell_type": "markdown",
      "source": [
        "E - ***EXTRAÇÃO DOS DADOS***"
      ],
      "metadata": {
        "id": "PSeOa-YoIyRA"
      }
    },
    {
      "cell_type": "code",
      "execution_count": 4,
      "metadata": {
        "colab": {
          "base_uri": "https://localhost:8080/"
        },
        "id": "OYUCAkb4IUrs",
        "outputId": "204a50f3-c7b7-46b5-93a5-5a273b7dae03"
      },
      "outputs": [
        {
          "output_type": "stream",
          "name": "stdout",
          "text": [
            "   VendasId  LojaId  ProdutoId        Data  PrecoUnitario  Quantidade\n",
            "0     82319   22726        590  2019-12-02         0.0525          93\n",
            "1     15022   21754        390  2017-11-19         5.1100          28\n",
            "2     11624   71053        883  2020-07-13         7.3675          33\n",
            "3     63101   22914        658  2019-05-12         2.0825          76\n",
            "4     29702   22623        632  2020-07-20         0.6475           8\n"
          ]
        }
      ],
      "source": [
        "import pandas as pd\n",
        "\n",
        "# Leitura do arquivo CSV\n",
        "df = pd.read_csv(\"Vendas.csv\")\n",
        "print(df.head())\n"
      ]
    },
    {
      "cell_type": "markdown",
      "source": [
        "T - ***TRANSFORMAÇÃO DOS DADOS***"
      ],
      "metadata": {
        "id": "YlSVgOHVJWfH"
      }
    },
    {
      "cell_type": "code",
      "source": [
        "# Removendo registros duplicados\n",
        "df = df.drop_duplicates()\n",
        "\n",
        "# Adicionando uma coluna de valor total\n",
        "df['ValorTotal'] = df['PrecoUnitario'] * df['Quantidade']\n",
        "print(df)\n"
      ],
      "metadata": {
        "colab": {
          "base_uri": "https://localhost:8080/"
        },
        "id": "T-F7N6mmJden",
        "outputId": "925987ad-4789-4f1e-ce2c-c6cfcf77bd06"
      },
      "execution_count": 6,
      "outputs": [
        {
          "output_type": "stream",
          "name": "stdout",
          "text": [
            "        VendasId  LojaId  ProdutoId        Data  PrecoUnitario  Quantidade  \\\n",
            "0          82319   22726        590  2019-12-02         0.0525          93   \n",
            "1          15022   21754        390  2017-11-19         5.1100          28   \n",
            "2          11624   71053        883  2020-07-13         7.3675          33   \n",
            "3          63101   22914        658  2019-05-12         2.0825          76   \n",
            "4          29702   22623        632  2020-07-20         0.6475           8   \n",
            "...          ...     ...        ...         ...            ...         ...   \n",
            "199995     57660   85123        682  2019-07-01         4.4625          75   \n",
            "199996     18783   22727        656  2017-04-18         1.6800          30   \n",
            "199997     25064   22912        831  2019-06-10         2.5025          60   \n",
            "199998     43683   22622        902  2018-08-06         3.2025          98   \n",
            "199999     44211   22749        775  2018-06-22         1.8550          32   \n",
            "\n",
            "        ValorTotal  \n",
            "0           4.8825  \n",
            "1         143.0800  \n",
            "2         243.1275  \n",
            "3         158.2700  \n",
            "4           5.1800  \n",
            "...            ...  \n",
            "199995    334.6875  \n",
            "199996     50.4000  \n",
            "199997    150.1500  \n",
            "199998    313.8450  \n",
            "199999     59.3600  \n",
            "\n",
            "[200000 rows x 7 columns]\n"
          ]
        }
      ]
    },
    {
      "cell_type": "markdown",
      "source": [
        "L - ***CARREGANDO DADOS***"
      ],
      "metadata": {
        "id": "-engqU7-LToZ"
      }
    },
    {
      "cell_type": "code",
      "source": [
        "# Salvar os dados em um novo arquivo Excel\n",
        "df.to_excel(\"vendas_transformadas.xlsx\")\n"
      ],
      "metadata": {
        "id": "xZAkRQ42T9vL"
      },
      "execution_count": 10,
      "outputs": []
    }
  ]
}